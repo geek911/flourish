{
 "cells": [
  {
   "cell_type": "code",
   "execution_count": 1,
   "id": "false-running",
   "metadata": {},
   "outputs": [
    {
     "data": {
      "text/plain": [
       "2523"
      ]
     },
     "execution_count": 1,
     "metadata": {},
     "output_type": "execute_result"
    }
   ],
   "source": [
    "import pandas as pd\n",
    "\n",
    "path = '/Users/ckgathi/source/flourish_data/'\n",
    "fname = path + 'BHP_Maternal-Child_Pairs_Updated_11FEB2021.csv'\n",
    "f = open(fname, 'r')\n",
    "lines = f.readlines()\n",
    "headers = lines[0]\n",
    "headers = headers.strip()\n",
    "headers = headers.split(',')\n",
    "identifiers = []\n",
    "count = 0\n",
    "for line in lines:\n",
    "    line = line.strip()\n",
    "    line = line.split(',')\n",
    "    if line[0] == 'Mpepu':\n",
    "        identifiers.append([line[2], line[1]])\n",
    "df = pd.DataFrame(identifiers)\n",
    "df.to_csv('identifiers.csv', encoding='utf-8')\n",
    "len(identifiers)"
   ]
  },
  {
   "cell_type": "code",
   "execution_count": null,
   "id": "intelligent-devices",
   "metadata": {},
   "outputs": [],
   "source": []
  }
 ],
 "metadata": {
  "kernelspec": {
   "display_name": "Django Shell-Plus",
   "language": "python",
   "name": "django_extensions"
  },
  "language_info": {
   "codemirror_mode": {
    "name": "ipython",
    "version": 3
   },
   "file_extension": ".py",
   "mimetype": "text/x-python",
   "name": "python",
   "nbconvert_exporter": "python",
   "pygments_lexer": "ipython3",
   "version": "3.7.6"
  }
 },
 "nbformat": 4,
 "nbformat_minor": 5
}
