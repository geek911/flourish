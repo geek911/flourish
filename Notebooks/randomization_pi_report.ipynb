{
 "cells": [
  {
   "cell_type": "code",
   "execution_count": null,
   "id": "68f0d0f0",
   "metadata": {},
   "outputs": [],
   "source": [
    "# Imports\n",
    "import csv\n",
    "import os \n",
    "import pandas as pd\n",
    "from django.core.exceptions import ValidationError\n",
    "os.environ[\"DJANGO_ALLOW_ASYNC_UNSAFE\"] = \"true\"\n",
    "from datetime import date\n"
   ]
  },
  {
   "cell_type": "code",
   "execution_count": null,
   "id": "03a79b54",
   "metadata": {},
   "outputs": [],
   "source": [
    "from datetime import date\n",
    "from dateutil.relativedelta import relativedelta\n",
    "\n",
    "target_date = date(2022, 2, 10)\n",
    "\n",
    "preg_pi_screnning_ids = MaternalDataset.objects.filter(preg_pi=1,\n",
    "                                   delivdt__lte=target_date - relativedelta(years=10)).values_list('screening_identifier')\n",
    "\n",
    "consented_pi = SubjectConsent.objects.filter(screening_identifier__in=preg_pi_screnning_ids).values_list(\n",
    "    'screening_identifier', flat=True)\n",
    "\n",
    "locators = CaregiverLocator.objects.all().values_list('study_maternal_identifier', flat=True)\n",
    "\n",
    "pi_dataset = MaternalDataset.objects.filter(\n",
    "    preg_pi=1,).exclude(\n",
    "        study_maternal_identifier__in=consented_pi).values_list(\n",
    "        'study_maternal_identifier', flat=True)\n",
    "\n",
    "assigned_pi = WorkList.objects.filter(study_maternal_identifier__in=pi_dataset,\n",
    "                                      consented=False)\n",
    "\n",
    "assigned_pi = [a for a in assigned_pi]\n",
    "\n",
    "data = [['study_maternal_id', 'assigned', 'is_called', 'consented', 'phone_num_success', ], ]\n",
    "\n",
    "ass_pi = []\n",
    "call_att = []\n",
    "\n",
    "for a in assigned_pi:\n",
    "    log_entries = LogEntry.objects.filter(\n",
    "        study_maternal_identifier=a.study_maternal_identifier).exclude(\n",
    "            phone_num_success__in=['none_of_the_above']).order_by('created')\n",
    "    x = [a.study_maternal_identifier, a.assigned, a.is_called, a.consented]\n",
    "\n",
    "    phone_nums = []\n",
    "    call_dates = []\n",
    "    if log_entries:\n",
    "\n",
    "        for g in log_entries:\n",
    "            phone_nums.append(g.phone_num_success)\n",
    "            call_dates.append(g.call_datetime.date().strftime('%Y-%m-%d'))\n",
    "    x.append(phone_nums)\n",
    "    x.append(call_dates)\n",
    "    data.append(x)\n"
   ]
  },
  {
   "cell_type": "code",
   "execution_count": null,
   "id": "67b18b73",
   "metadata": {},
   "outputs": [],
   "source": []
  },
  {
   "cell_type": "code",
   "execution_count": null,
   "id": "a73ad799",
   "metadata": {},
   "outputs": [],
   "source": [
    "with open('/home/flourish/preg_pi_call_log.csv', 'w') as result_file:\n",
    "    wr = csv.writer(result_file, dialect='excel')\n",
    "\n",
    "    for d in data:\n",
    "         wr.writerow(d)"
   ]
  },
  {
   "cell_type": "code",
   "execution_count": null,
   "id": "44d24d8c",
   "metadata": {},
   "outputs": [],
   "source": [
    "\n"
   ]
  }
 ],
 "metadata": {
  "kernelspec": {
   "display_name": "Django Shell-Plus",
   "language": "python",
   "name": "django_extensions"
  },
  "language_info": {
   "codemirror_mode": {
    "name": "ipython",
    "version": 3
   },
   "file_extension": ".py",
   "mimetype": "text/x-python",
   "name": "python",
   "nbconvert_exporter": "python",
   "pygments_lexer": "ipython3",
   "version": "3.9.0"
  }
 },
 "nbformat": 4,
 "nbformat_minor": 5
}
