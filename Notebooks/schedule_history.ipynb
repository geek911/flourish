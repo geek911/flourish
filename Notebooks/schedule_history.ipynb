{
 "cells": [
  {
   "cell_type": "code",
   "execution_count": null,
   "id": "bf311e7f",
   "metadata": {},
   "outputs": [],
   "source": [
    "# Imports\n",
    "import os \n",
    "import pandas as pd\n",
    "from django.core.exceptions import ValidationError\n",
    "os.environ[\"DJANGO_ALLOW_ASYNC_UNSAFE\"] = \"true\"\n",
    "from datetime import date\n",
    "from edc_appointment.models import Appointment"
   ]
  },
  {
   "cell_type": "code",
   "execution_count": null,
   "id": "eb8bf23f",
   "metadata": {},
   "outputs": [],
   "source": [
    "for a in OnScheduleCohortABirth.objects.all():\n",
    "    ss = SubjectScheduleHistory.objects.get(subject_identifier=a.subject_identifier,\n",
    "                                                     schedule_name='a_birth1_schedule1')\n",
    "    if ss.onschedule_datetime != a.onschedule_datetime:\n",
    "        ss.onschedule_datetime = a.onschedule_datetime\n",
    "        ss.save()"
   ]
  },
  {
   "cell_type": "code",
   "execution_count": null,
   "id": "8539dabd",
   "metadata": {},
   "outputs": [],
   "source": [
    "for a in OnScheduleChildCohortABirth.objects.all():\n",
    "    ss = SubjectScheduleHistory.objects.get(subject_identifier=a.subject_identifier,\n",
    "                                                     schedule_name='child_a_birth_schedule1')\n",
    "    if ss.onschedule_datetime != a.onschedule_datetime:\n",
    "        ss.onschedule_datetime = a.onschedule_datetime\n",
    "        ss.save()"
   ]
  }
 ],
 "metadata": {
  "kernelspec": {
   "display_name": "Django Shell-Plus",
   "language": "python",
   "name": "django_extensions"
  },
  "language_info": {
   "codemirror_mode": {
    "name": "ipython",
    "version": 3
   },
   "file_extension": ".py",
   "mimetype": "text/x-python",
   "name": "python",
   "nbconvert_exporter": "python",
   "pygments_lexer": "ipython3",
   "version": "3.9.12"
  }
 },
 "nbformat": 4,
 "nbformat_minor": 5
}
