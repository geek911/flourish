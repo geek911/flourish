{
 "cells": [
  {
   "cell_type": "code",
   "execution_count": null,
   "id": "68f0d0f0",
   "metadata": {},
   "outputs": [],
   "source": [
    "# Imports\n",
    "import os \n",
    "import pandas as pd\n",
    "from django.core.exceptions import ValidationError\n",
    "os.environ[\"DJANGO_ALLOW_ASYNC_UNSAFE\"] = \"true\"\n",
    "from datetime import date\n"
   ]
  },
  {
   "cell_type": "code",
   "execution_count": null,
   "id": "03a79b54",
   "metadata": {},
   "outputs": [],
   "source": [
    "##Child Window\n",
    "from flourish_child.models import Appointment\n",
    "\n",
    "pids = []\n",
    "for a in OnScheduleChildCohortABirth.objects.all():\n",
    "    try:\n",
    "        md = MaternalDelivery.objects.get(subject_identifier=a.subject_identifier[:-3])\n",
    "    except MaternalDelivery.DoesNotExist:\n",
    "        print(a.subject_identifier[:-3])\n",
    "    else:\n",
    "        if md.delivery_datetime.date() < a.onschedule_datetime.date():\n",
    "            pids.append(a.subject_identifier)\n",
    "\n"
   ]
  },
  {
   "cell_type": "code",
   "execution_count": null,
   "id": "26815a7b",
   "metadata": {},
   "outputs": [],
   "source": [
    "pids"
   ]
  },
  {
   "cell_type": "code",
   "execution_count": null,
   "id": "67b18b73",
   "metadata": {},
   "outputs": [],
   "source": [
    "for pid in pids:\n",
    "\n",
    "    subject_identifier = pid\n",
    "\n",
    "    print(\">>>>>>>>>>>>>\", pid)\n",
    "\n",
    "    ons = OnScheduleChildCohortABirth.objects.get(subject_identifier=subject_identifier)\n",
    "\n",
    "    ons.schedule_name = ons.schedule_name + 'x'\n",
    "    ons.save()\n",
    "\n",
    "    ap0 = Appointment.objects.get(subject_identifier=subject_identifier,\n",
    "                              schedule_name='child_a_birth_schedule1',\n",
    "                              visit_code_sequence=0)\n",
    "\n",
    "    ap0.schedule_name = ons.schedule_name\n",
    "    ap0.save()\n",
    "\n",
    "    # resave child birth\n",
    "\n",
    "    cbf = ChildBirth.objects.get(subject_identifier=subject_identifier)\n",
    "\n",
    "    cbf.save()\n",
    "\n",
    "    ap1 = Appointment.objects.get(subject_identifier=subject_identifier,\n",
    "                                  schedule_name='child_a_birth_schedule1',\n",
    "                                  visit_code_sequence=0)\n",
    "\n",
    "    ap1.user_modified = ap0.user_modified\n",
    "    ap1.appt_status = ap0.appt_status\n",
    "    ap1.appt_reason = ap0.appt_reason\n",
    "    ap1.appt_datetime = ap0.appt_datetime\n",
    "\n",
    "    ap1.save()\n",
    "\n",
    "    try:\n",
    "        v1 = ChildVisit.objects.get(appointment=ap0)\n",
    "        v1.appointment = ap1\n",
    "        v1.save()\n",
    "    except:\n",
    "        pass\n",
    "\n",
    "    ap0.delete()\n",
    "    ons.delete()"
   ]
  },
  {
   "cell_type": "code",
   "execution_count": null,
   "id": "a73ad799",
   "metadata": {},
   "outputs": [],
   "source": []
  },
  {
   "cell_type": "code",
   "execution_count": null,
   "id": "44d24d8c",
   "metadata": {},
   "outputs": [],
   "source": [
    "\n"
   ]
  }
 ],
 "metadata": {
  "kernelspec": {
   "display_name": "Django Shell-Plus",
   "language": "python",
   "name": "django_extensions"
  },
  "language_info": {
   "codemirror_mode": {
    "name": "ipython",
    "version": 3
   },
   "file_extension": ".py",
   "mimetype": "text/x-python",
   "name": "python",
   "nbconvert_exporter": "python",
   "pygments_lexer": "ipython3",
   "version": "3.9.12"
  }
 },
 "nbformat": 4,
 "nbformat_minor": 5
}
