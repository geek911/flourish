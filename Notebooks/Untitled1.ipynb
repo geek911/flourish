{
 "cells": [
  {
   "cell_type": "code",
   "execution_count": 1,
   "id": "9646440d",
   "metadata": {},
   "outputs": [],
   "source": [
    "# Imports\n",
    "import os \n",
    "import pandas as pd\n",
    "from django.core.exceptions import ValidationError\n",
    "os.environ[\"DJANGO_ALLOW_ASYNC_UNSAFE\"] = \"true\"\n",
    "from datetime import date\n",
    "from edc_appointment.models import Appointment"
   ]
  },
  {
   "cell_type": "code",
   "execution_count": null,
   "id": "a4cedfe1",
   "metadata": {},
   "outputs": [],
   "source": []
  },
  {
   "cell_type": "code",
   "execution_count": 2,
   "id": "cea59947",
   "metadata": {},
   "outputs": [],
   "source": [
    "##Maternal Window\n",
    "from edc_appointment.models import Appointment\n",
    "\n",
    "pids = []\n",
    "\n",
    "for g in [OnScheduleCohortAEnrollment, OnScheduleCohortBEnrollment, OnScheduleCohortCEnrollment,\n",
    "         OnScheduleCohortASec, OnScheduleCohortBSec, OnScheduleCohortCSec]:\n",
    "    \n",
    "    inner_pids = []\n",
    "    for a in g.objects.all():\n",
    "        try:\n",
    "            prev_enrol = CaregiverPreviouslyEnrolled.objects.get(subject_identifier=a.subject_identifier,)\n",
    "        except CaregiverPreviouslyEnrolled.DoesNotExist:\n",
    "            pass\n",
    "        else:\n",
    "            if prev_enrol.report_datetime.date() != a.onschedule_datetime.date():\n",
    "                pids.append([a.subject_identifier, g])\n",
    "                inner_pids.append(a.subject_identifier)"
   ]
  },
  {
   "cell_type": "code",
   "execution_count": 3,
   "id": "84d01548",
   "metadata": {},
   "outputs": [
    {
     "data": {
      "text/plain": [
       "[['B142-040990504-8',\n",
       "  flourish_caregiver.models.onschedule.OnScheduleCohortAEnrollment],\n",
       " ['B142-040990581-6',\n",
       "  flourish_caregiver.models.onschedule.OnScheduleCohortAEnrollment],\n",
       " ['B142-040990006-4',\n",
       "  flourish_caregiver.models.onschedule.OnScheduleCohortBEnrollment],\n",
       " ['B142-040990009-8',\n",
       "  flourish_caregiver.models.onschedule.OnScheduleCohortBEnrollment],\n",
       " ['B142-040990044-5',\n",
       "  flourish_caregiver.models.onschedule.OnScheduleCohortBEnrollment],\n",
       " ['B142-040990585-7',\n",
       "  flourish_caregiver.models.onschedule.OnScheduleCohortBEnrollment],\n",
       " ['B142-040990008-0',\n",
       "  flourish_caregiver.models.onschedule.OnScheduleCohortCEnrollment],\n",
       " ['B142-040990623-6',\n",
       "  flourish_caregiver.models.onschedule.OnScheduleCohortCEnrollment],\n",
       " ['B142-040990023-9',\n",
       "  flourish_caregiver.models.onschedule.OnScheduleCohortBSec],\n",
       " ['B142-040990602-0',\n",
       "  flourish_caregiver.models.onschedule.OnScheduleCohortBSec],\n",
       " ['B142-040990263-1',\n",
       "  flourish_caregiver.models.onschedule.OnScheduleCohortCSec],\n",
       " ['B142-040990612-9',\n",
       "  flourish_caregiver.models.onschedule.OnScheduleCohortCSec],\n",
       " ['B142-040990002-3',\n",
       "  flourish_caregiver.models.onschedule.OnScheduleCohortCSec],\n",
       " ['B142-040990001-5',\n",
       "  flourish_caregiver.models.onschedule.OnScheduleCohortCSec],\n",
       " ['B142-040990005-6',\n",
       "  flourish_caregiver.models.onschedule.OnScheduleCohortCSec],\n",
       " ['B142-040990001-5',\n",
       "  flourish_caregiver.models.onschedule.OnScheduleCohortCSec],\n",
       " ['B142-040990003-1',\n",
       "  flourish_caregiver.models.onschedule.OnScheduleCohortCSec],\n",
       " ['B142-040990005-6',\n",
       "  flourish_caregiver.models.onschedule.OnScheduleCohortCSec],\n",
       " ['B142-040990182-3',\n",
       "  flourish_caregiver.models.onschedule.OnScheduleCohortCSec],\n",
       " ['B142-040990003-1',\n",
       "  flourish_caregiver.models.onschedule.OnScheduleCohortCSec],\n",
       " ['B142-040990002-3',\n",
       "  flourish_caregiver.models.onschedule.OnScheduleCohortCSec],\n",
       " ['B142-040990606-1',\n",
       "  flourish_caregiver.models.onschedule.OnScheduleCohortCSec],\n",
       " ['B142-040990007-2',\n",
       "  flourish_caregiver.models.onschedule.OnScheduleCohortCSec]]"
      ]
     },
     "execution_count": 3,
     "metadata": {},
     "output_type": "execute_result"
    }
   ],
   "source": [
    "pids"
   ]
  },
  {
   "cell_type": "code",
   "execution_count": null,
   "id": "4312da84",
   "metadata": {},
   "outputs": [],
   "source": []
  }
 ],
 "metadata": {
  "kernelspec": {
   "display_name": "Django Shell-Plus",
   "language": "python",
   "name": "django_extensions"
  },
  "language_info": {
   "codemirror_mode": {
    "name": "ipython",
    "version": 3
   },
   "file_extension": ".py",
   "mimetype": "text/x-python",
   "name": "python",
   "nbconvert_exporter": "python",
   "pygments_lexer": "ipython3",
   "version": "3.9.0"
  }
 },
 "nbformat": 4,
 "nbformat_minor": 5
}
