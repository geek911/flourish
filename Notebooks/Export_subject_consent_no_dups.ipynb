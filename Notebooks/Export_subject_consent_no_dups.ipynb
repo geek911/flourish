{
 "cells": [
  {
   "cell_type": "code",
   "execution_count": 23,
   "id": "f09131ff",
   "metadata": {},
   "outputs": [],
   "source": [
    "# Imports\n",
    "import os \n",
    "import pandas as pd\n",
    "from django.core.exceptions import ValidationError\n",
    "os.environ[\"DJANGO_ALLOW_ASYNC_UNSAFE\"] = \"true\"\n",
    "from datetime import date\n",
    "\n",
    "# data_path = '/home/flourish/'"
   ]
  },
  {
   "cell_type": "code",
   "execution_count": 24,
   "id": "548efe3f",
   "metadata": {},
   "outputs": [],
   "source": [
    "scs = SubjectConsent.objects.all()"
   ]
  },
  {
   "cell_type": "code",
   "execution_count": 25,
   "id": "69113ef8",
   "metadata": {},
   "outputs": [],
   "source": [
    "subject_consent_df = pd.DataFrame([s.__dict__ for s in scs])"
   ]
  },
  {
   "cell_type": "code",
   "execution_count": 26,
   "id": "01e246db",
   "metadata": {},
   "outputs": [],
   "source": [
    "subject_consent_df1 = subject_consent_df.sort_values('consent_datetime').drop_duplicates(\n",
    "    subset=['subject_identifier'], keep='last')"
   ]
  },
  {
   "cell_type": "code",
   "execution_count": 27,
   "id": "f7e6439a",
   "metadata": {},
   "outputs": [
    {
     "data": {
      "text/plain": [
       "['_state',\n",
       " 'created',\n",
       " 'modified',\n",
       " 'user_created',\n",
       " 'user_modified',\n",
       " 'hostname_created',\n",
       " 'hostname_modified',\n",
       " 'revision',\n",
       " 'device_created',\n",
       " 'device_modified',\n",
       " 'id',\n",
       " 'site_id',\n",
       " 'subject_identifier_as_pk',\n",
       " 'subject_identifier_aka',\n",
       " 'slug',\n",
       " 'citizen',\n",
       " 'legal_marriage',\n",
       " 'marriage_certificate',\n",
       " 'marriage_certificate_no',\n",
       " 'identity',\n",
       " 'confirm_identity',\n",
       " 'first_name',\n",
       " 'last_name',\n",
       " 'initials',\n",
       " 'dob',\n",
       " 'is_dob_estimated',\n",
       " 'guardian_name',\n",
       " 'subject_type',\n",
       " 'is_incarcerated',\n",
       " 'is_literate',\n",
       " 'witness_name',\n",
       " 'language',\n",
       " 'is_verified',\n",
       " 'is_verified_datetime',\n",
       " 'verified_by',\n",
       " 'consent_datetime',\n",
       " 'report_datetime',\n",
       " 'version',\n",
       " 'updates_versions',\n",
       " 'sid',\n",
       " 'comment',\n",
       " 'dm_comment',\n",
       " 'consent_identifier',\n",
       " 'consent_reviewed',\n",
       " 'study_questions',\n",
       " 'assessment_score',\n",
       " 'consent_signature',\n",
       " 'consent_copy',\n",
       " 'subject_identifier',\n",
       " 'screening_identifier',\n",
       " 'gender',\n",
       " 'identity_type',\n",
       " 'recruit_source',\n",
       " 'recruit_source_other',\n",
       " 'recruitment_clinic',\n",
       " 'recruitment_clinic_other',\n",
       " 'remain_in_study',\n",
       " 'biological_caregiver',\n",
       " 'hiv_testing',\n",
       " 'breastfeed_intent',\n",
       " 'future_contact',\n",
       " 'child_consent',\n",
       " 'ineligibility',\n",
       " 'is_eligible',\n",
       " 'multiple_birth']"
      ]
     },
     "execution_count": 27,
     "metadata": {},
     "output_type": "execute_result"
    }
   ],
   "source": [
    "list(subject_consent_df1.columns)"
   ]
  },
  {
   "cell_type": "code",
   "execution_count": 32,
   "id": "aca71c10",
   "metadata": {},
   "outputs": [],
   "source": [
    "subject_consent_df1['dob'] = pd.to_datetime(subject_consent_df1['dob']).dt.date\n",
    "subject_consent_df1['dob'] = pd.to_datetime(subject_consent_df1['dob'], format='%Y/%m/%d')\n",
    "\n",
    "\n",
    "subject_consent_df1['is_verified_datetime'] = pd.to_datetime(subject_consent_df1['is_verified_datetime']).dt.date\n",
    "subject_consent_df1['is_verified_datetime'] = pd.to_datetime(subject_consent_df1['is_verified_datetime'], format='%Y/%m/%d')\n",
    "\n",
    "subject_consent_df1['consent_datetime'] = pd.to_datetime(subject_consent_df1['consent_datetime']).dt.date\n",
    "subject_consent_df1['consent_datetime'] = pd.to_datetime(subject_consent_df1['consent_datetime'], format='%Y/%m/%d')\n",
    "\n",
    "subject_consent_df1['report_datetime'] = pd.to_datetime(subject_consent_df1['report_datetime']).dt.date\n",
    "subject_consent_df1['report_datetime'] = pd.to_datetime(subject_consent_df1['report_datetime'], format='%Y/%m/%d')\n"
   ]
  },
  {
   "cell_type": "code",
   "execution_count": 33,
   "id": "b9ba0931",
   "metadata": {},
   "outputs": [
    {
     "ename": "KeyError",
     "evalue": "\"['_state' 'first_name' 'last_name' 'identity' 'confirm_identity'\\n 'subject_identifier_as_pk' 'subject_identifier_aka' 'slug'\\n 'marriage_certificate_no' 'initials' 'guardian_name' 'witness_name'\\n 'revision' 'created' 'modified' 'revision' 'hostname_created'\\n 'hostname_modified'] not found in axis\"",
     "output_type": "error",
     "traceback": [
      "\u001b[0;31m---------------------------------------------------------------------------\u001b[0m",
      "\u001b[0;31mKeyError\u001b[0m                                  Traceback (most recent call last)",
      "\u001b[0;32m<ipython-input-33-5ca09b866fe9>\u001b[0m in \u001b[0;36m<module>\u001b[0;34m\u001b[0m\n\u001b[0;32m----> 1\u001b[0;31m subject_consent_df1 = subject_consent_df1.drop(['_state', 'first_name', 'last_name', 'identity', 'confirm_identity',\n\u001b[0m\u001b[1;32m      2\u001b[0m                          \u001b[0;34m'subject_identifier_as_pk'\u001b[0m\u001b[0;34m,\u001b[0m \u001b[0;34m'subject_identifier_aka'\u001b[0m\u001b[0;34m,\u001b[0m \u001b[0;34m'slug'\u001b[0m\u001b[0;34m,\u001b[0m \u001b[0;34m'marriage_certificate_no'\u001b[0m\u001b[0;34m,\u001b[0m\u001b[0;34m\u001b[0m\u001b[0;34m\u001b[0m\u001b[0m\n\u001b[1;32m      3\u001b[0m                          \u001b[0;34m'initials'\u001b[0m\u001b[0;34m,\u001b[0m \u001b[0;34m'guardian_name'\u001b[0m\u001b[0;34m,\u001b[0m \u001b[0;34m'witness_name'\u001b[0m\u001b[0;34m,\u001b[0m \u001b[0;34m'revision'\u001b[0m\u001b[0;34m,\u001b[0m \u001b[0;34m'created'\u001b[0m\u001b[0;34m,\u001b[0m \u001b[0;34m'modified'\u001b[0m\u001b[0;34m,\u001b[0m\u001b[0;34m\u001b[0m\u001b[0;34m\u001b[0m\u001b[0m\n\u001b[1;32m      4\u001b[0m                          'revision', 'hostname_created','hostname_modified',], axis=1)\n",
      "\u001b[0;32m~/.venvs/flourish-live/lib/python3.9/site-packages/pandas/util/_decorators.py\u001b[0m in \u001b[0;36mwrapper\u001b[0;34m(*args, **kwargs)\u001b[0m\n\u001b[1;32m    309\u001b[0m                     \u001b[0mstacklevel\u001b[0m\u001b[0;34m=\u001b[0m\u001b[0mstacklevel\u001b[0m\u001b[0;34m,\u001b[0m\u001b[0;34m\u001b[0m\u001b[0;34m\u001b[0m\u001b[0m\n\u001b[1;32m    310\u001b[0m                 )\n\u001b[0;32m--> 311\u001b[0;31m             \u001b[0;32mreturn\u001b[0m \u001b[0mfunc\u001b[0m\u001b[0;34m(\u001b[0m\u001b[0;34m*\u001b[0m\u001b[0margs\u001b[0m\u001b[0;34m,\u001b[0m \u001b[0;34m**\u001b[0m\u001b[0mkwargs\u001b[0m\u001b[0;34m)\u001b[0m\u001b[0;34m\u001b[0m\u001b[0;34m\u001b[0m\u001b[0m\n\u001b[0m\u001b[1;32m    312\u001b[0m \u001b[0;34m\u001b[0m\u001b[0m\n\u001b[1;32m    313\u001b[0m         \u001b[0;32mreturn\u001b[0m \u001b[0mwrapper\u001b[0m\u001b[0;34m\u001b[0m\u001b[0;34m\u001b[0m\u001b[0m\n",
      "\u001b[0;32m~/.venvs/flourish-live/lib/python3.9/site-packages/pandas/core/frame.py\u001b[0m in \u001b[0;36mdrop\u001b[0;34m(self, labels, axis, index, columns, level, inplace, errors)\u001b[0m\n\u001b[1;32m   4899\u001b[0m                 \u001b[0mweight\u001b[0m  \u001b[0;36m1.0\u001b[0m     \u001b[0;36m0.8\u001b[0m\u001b[0;34m\u001b[0m\u001b[0;34m\u001b[0m\u001b[0m\n\u001b[1;32m   4900\u001b[0m         \"\"\"\n\u001b[0;32m-> 4901\u001b[0;31m         return super().drop(\n\u001b[0m\u001b[1;32m   4902\u001b[0m             \u001b[0mlabels\u001b[0m\u001b[0;34m=\u001b[0m\u001b[0mlabels\u001b[0m\u001b[0;34m,\u001b[0m\u001b[0;34m\u001b[0m\u001b[0;34m\u001b[0m\u001b[0m\n\u001b[1;32m   4903\u001b[0m             \u001b[0maxis\u001b[0m\u001b[0;34m=\u001b[0m\u001b[0maxis\u001b[0m\u001b[0;34m,\u001b[0m\u001b[0;34m\u001b[0m\u001b[0;34m\u001b[0m\u001b[0m\n",
      "\u001b[0;32m~/.venvs/flourish-live/lib/python3.9/site-packages/pandas/core/generic.py\u001b[0m in \u001b[0;36mdrop\u001b[0;34m(self, labels, axis, index, columns, level, inplace, errors)\u001b[0m\n\u001b[1;32m   4145\u001b[0m         \u001b[0;32mfor\u001b[0m \u001b[0maxis\u001b[0m\u001b[0;34m,\u001b[0m \u001b[0mlabels\u001b[0m \u001b[0;32min\u001b[0m \u001b[0maxes\u001b[0m\u001b[0;34m.\u001b[0m\u001b[0mitems\u001b[0m\u001b[0;34m(\u001b[0m\u001b[0;34m)\u001b[0m\u001b[0;34m:\u001b[0m\u001b[0;34m\u001b[0m\u001b[0;34m\u001b[0m\u001b[0m\n\u001b[1;32m   4146\u001b[0m             \u001b[0;32mif\u001b[0m \u001b[0mlabels\u001b[0m \u001b[0;32mis\u001b[0m \u001b[0;32mnot\u001b[0m \u001b[0;32mNone\u001b[0m\u001b[0;34m:\u001b[0m\u001b[0;34m\u001b[0m\u001b[0;34m\u001b[0m\u001b[0m\n\u001b[0;32m-> 4147\u001b[0;31m                 \u001b[0mobj\u001b[0m \u001b[0;34m=\u001b[0m \u001b[0mobj\u001b[0m\u001b[0;34m.\u001b[0m\u001b[0m_drop_axis\u001b[0m\u001b[0;34m(\u001b[0m\u001b[0mlabels\u001b[0m\u001b[0;34m,\u001b[0m \u001b[0maxis\u001b[0m\u001b[0;34m,\u001b[0m \u001b[0mlevel\u001b[0m\u001b[0;34m=\u001b[0m\u001b[0mlevel\u001b[0m\u001b[0;34m,\u001b[0m \u001b[0merrors\u001b[0m\u001b[0;34m=\u001b[0m\u001b[0merrors\u001b[0m\u001b[0;34m)\u001b[0m\u001b[0;34m\u001b[0m\u001b[0;34m\u001b[0m\u001b[0m\n\u001b[0m\u001b[1;32m   4148\u001b[0m \u001b[0;34m\u001b[0m\u001b[0m\n\u001b[1;32m   4149\u001b[0m         \u001b[0;32mif\u001b[0m \u001b[0minplace\u001b[0m\u001b[0;34m:\u001b[0m\u001b[0;34m\u001b[0m\u001b[0;34m\u001b[0m\u001b[0m\n",
      "\u001b[0;32m~/.venvs/flourish-live/lib/python3.9/site-packages/pandas/core/generic.py\u001b[0m in \u001b[0;36m_drop_axis\u001b[0;34m(self, labels, axis, level, errors)\u001b[0m\n\u001b[1;32m   4180\u001b[0m                 \u001b[0mnew_axis\u001b[0m \u001b[0;34m=\u001b[0m \u001b[0maxis\u001b[0m\u001b[0;34m.\u001b[0m\u001b[0mdrop\u001b[0m\u001b[0;34m(\u001b[0m\u001b[0mlabels\u001b[0m\u001b[0;34m,\u001b[0m \u001b[0mlevel\u001b[0m\u001b[0;34m=\u001b[0m\u001b[0mlevel\u001b[0m\u001b[0;34m,\u001b[0m \u001b[0merrors\u001b[0m\u001b[0;34m=\u001b[0m\u001b[0merrors\u001b[0m\u001b[0;34m)\u001b[0m\u001b[0;34m\u001b[0m\u001b[0;34m\u001b[0m\u001b[0m\n\u001b[1;32m   4181\u001b[0m             \u001b[0;32melse\u001b[0m\u001b[0;34m:\u001b[0m\u001b[0;34m\u001b[0m\u001b[0;34m\u001b[0m\u001b[0m\n\u001b[0;32m-> 4182\u001b[0;31m                 \u001b[0mnew_axis\u001b[0m \u001b[0;34m=\u001b[0m \u001b[0maxis\u001b[0m\u001b[0;34m.\u001b[0m\u001b[0mdrop\u001b[0m\u001b[0;34m(\u001b[0m\u001b[0mlabels\u001b[0m\u001b[0;34m,\u001b[0m \u001b[0merrors\u001b[0m\u001b[0;34m=\u001b[0m\u001b[0merrors\u001b[0m\u001b[0;34m)\u001b[0m\u001b[0;34m\u001b[0m\u001b[0;34m\u001b[0m\u001b[0m\n\u001b[0m\u001b[1;32m   4183\u001b[0m             \u001b[0mresult\u001b[0m \u001b[0;34m=\u001b[0m \u001b[0mself\u001b[0m\u001b[0;34m.\u001b[0m\u001b[0mreindex\u001b[0m\u001b[0;34m(\u001b[0m\u001b[0;34m**\u001b[0m\u001b[0;34m{\u001b[0m\u001b[0maxis_name\u001b[0m\u001b[0;34m:\u001b[0m \u001b[0mnew_axis\u001b[0m\u001b[0;34m}\u001b[0m\u001b[0;34m)\u001b[0m\u001b[0;34m\u001b[0m\u001b[0;34m\u001b[0m\u001b[0m\n\u001b[1;32m   4184\u001b[0m \u001b[0;34m\u001b[0m\u001b[0m\n",
      "\u001b[0;32m~/.venvs/flourish-live/lib/python3.9/site-packages/pandas/core/indexes/base.py\u001b[0m in \u001b[0;36mdrop\u001b[0;34m(self, labels, errors)\u001b[0m\n\u001b[1;32m   6016\u001b[0m         \u001b[0;32mif\u001b[0m \u001b[0mmask\u001b[0m\u001b[0;34m.\u001b[0m\u001b[0many\u001b[0m\u001b[0;34m(\u001b[0m\u001b[0;34m)\u001b[0m\u001b[0;34m:\u001b[0m\u001b[0;34m\u001b[0m\u001b[0;34m\u001b[0m\u001b[0m\n\u001b[1;32m   6017\u001b[0m             \u001b[0;32mif\u001b[0m \u001b[0merrors\u001b[0m \u001b[0;34m!=\u001b[0m \u001b[0;34m\"ignore\"\u001b[0m\u001b[0;34m:\u001b[0m\u001b[0;34m\u001b[0m\u001b[0;34m\u001b[0m\u001b[0m\n\u001b[0;32m-> 6018\u001b[0;31m                 \u001b[0;32mraise\u001b[0m \u001b[0mKeyError\u001b[0m\u001b[0;34m(\u001b[0m\u001b[0;34mf\"{labels[mask]} not found in axis\"\u001b[0m\u001b[0;34m)\u001b[0m\u001b[0;34m\u001b[0m\u001b[0;34m\u001b[0m\u001b[0m\n\u001b[0m\u001b[1;32m   6019\u001b[0m             \u001b[0mindexer\u001b[0m \u001b[0;34m=\u001b[0m \u001b[0mindexer\u001b[0m\u001b[0;34m[\u001b[0m\u001b[0;34m~\u001b[0m\u001b[0mmask\u001b[0m\u001b[0;34m]\u001b[0m\u001b[0;34m\u001b[0m\u001b[0;34m\u001b[0m\u001b[0m\n\u001b[1;32m   6020\u001b[0m         \u001b[0;32mreturn\u001b[0m \u001b[0mself\u001b[0m\u001b[0;34m.\u001b[0m\u001b[0mdelete\u001b[0m\u001b[0;34m(\u001b[0m\u001b[0mindexer\u001b[0m\u001b[0;34m)\u001b[0m\u001b[0;34m\u001b[0m\u001b[0;34m\u001b[0m\u001b[0m\n",
      "\u001b[0;31mKeyError\u001b[0m: \"['_state' 'first_name' 'last_name' 'identity' 'confirm_identity'\\n 'subject_identifier_as_pk' 'subject_identifier_aka' 'slug'\\n 'marriage_certificate_no' 'initials' 'guardian_name' 'witness_name'\\n 'revision' 'created' 'modified' 'revision' 'hostname_created'\\n 'hostname_modified'] not found in axis\""
     ]
    }
   ],
   "source": [
    "subject_consent_df1 = subject_consent_df1.drop(['_state', 'first_name', 'last_name', 'identity', 'confirm_identity',\n",
    "                         'subject_identifier_as_pk', 'subject_identifier_aka', 'slug', 'marriage_certificate_no',\n",
    "                         'initials', 'guardian_name', 'witness_name', 'revision', 'created', 'modified',\n",
    "                         'revision', 'hostname_created','hostname_modified',], axis=1)"
   ]
  },
  {
   "cell_type": "code",
   "execution_count": 34,
   "id": "9a3c9daf",
   "metadata": {},
   "outputs": [],
   "source": [
    "# saving the dataframe\n",
    "subject_consent_df1.to_csv(f'{data_path}subject_consent_202204211810.csv')"
   ]
  },
  {
   "cell_type": "code",
   "execution_count": null,
   "id": "fa925f6f",
   "metadata": {},
   "outputs": [],
   "source": []
  }
 ],
 "metadata": {
  "kernelspec": {
   "display_name": "Django Shell-Plus",
   "language": "python",
   "name": "django_extensions"
  },
  "language_info": {
   "codemirror_mode": {
    "name": "ipython",
    "version": 3
   },
   "file_extension": ".py",
   "mimetype": "text/x-python",
   "name": "python",
   "nbconvert_exporter": "python",
   "pygments_lexer": "ipython3",
   "version": "3.9.0"
  }
 },
 "nbformat": 4,
 "nbformat_minor": 5
}
