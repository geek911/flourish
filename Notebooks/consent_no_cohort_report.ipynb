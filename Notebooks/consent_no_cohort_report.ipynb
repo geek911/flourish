{
 "cells": [
  {
   "cell_type": "code",
   "execution_count": null,
   "id": "146d73c2",
   "metadata": {},
   "outputs": [],
   "source": [
    "# Imports\n",
    "import os \n",
    "import pandas as pd\n",
    "from django.core.exceptions import ValidationError\n",
    "os.environ[\"DJANGO_ALLOW_ASYNC_UNSAFE\"] = \"true\"\n",
    "from datetime import date"
   ]
  },
  {
   "cell_type": "code",
   "execution_count": null,
   "id": "67505774",
   "metadata": {},
   "outputs": [],
   "source": [
    "no_cohorts = CaregiverChildConsent.objects.filter(cohort=None)\n",
    "\n",
    "st_ids = []\n",
    "for a in no_cohorts:\n",
    "    md = MaternalDataset.objects.get(\n",
    "        screening_identifier=a.subject_consent.screening_identifier)\n",
    "    try:\n",
    "        chd = ChildDataset.objects.get(\n",
    "            study_maternal_identifier=md.study_maternal_identifier)\n",
    "    except:\n",
    "        st_ids.append(md.study_maternal_identifier)\n",
    "\n",
    "    a.study_child_identifier = chd.study_child_identifier\n",
    "    a.save()\n",
    "\n",
    "no_enrols = []\n",
    "for a in no_cohorts:\n",
    "\n",
    "    try:\n",
    "        cpe = CaregiverPreviouslyEnrolled.objects.get(\n",
    "            subject_identifier=a.subject_consent.subject_identifier)\n",
    "    except CaregiverPreviouslyEnrolled.DoesNotExist:\n",
    "        no_enrols.append(a.subject_consent.subject_identifier)\n",
    "    else:\n",
    "        cpe.save()\n",
    "\n",
    "for a in no_cohorts:\n",
    "\n",
    "    try:\n",
    "        cpe = CaregiverPreviouslyEnrolled.objects.get(\n",
    "            subject_identifier=a[:-3])\n",
    "    except CaregiverPreviouslyEnrolled.DoesNotExist:\n",
    "        no_enrols.append(a[:-3])\n",
    "    else:\n",
    "        cpe.save()"
   ]
  }
 ],
 "metadata": {
  "kernelspec": {
   "display_name": "Django Shell-Plus",
   "language": "python",
   "name": "django_extensions"
  },
  "language_info": {
   "codemirror_mode": {
    "name": "ipython",
    "version": 3
   },
   "file_extension": ".py",
   "mimetype": "text/x-python",
   "name": "python",
   "nbconvert_exporter": "python",
   "pygments_lexer": "ipython3",
   "version": "3.9.0"
  }
 },
 "nbformat": 4,
 "nbformat_minor": 5
}
