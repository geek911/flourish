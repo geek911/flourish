{
 "cells": [
  {
   "cell_type": "code",
   "execution_count": 1,
   "id": "6b143fa0",
   "metadata": {},
   "outputs": [],
   "source": [
    "import os\n",
    "os.environ[\"DJANGO_ALLOW_ASYNC_UNSAFE\"] = \"true\"\n",
    "from django.apps import apps as django_apps\n",
    "import math\n",
    "import calendar\n",
    "from datetime import date\n",
    "from edc_base.utils import get_utcnow\n",
    "\n",
    "edc_protocol = django_apps.get_app_config('edc_protocol')"
   ]
  },
  {
   "cell_type": "code",
   "execution_count": 2,
   "id": "81b6243c",
   "metadata": {},
   "outputs": [],
   "source": [
    "def get_holidays(year, month):\n",
    "    facility_app_config = django_apps.get_app_config('edc_facility')\n",
    "\n",
    "    facility = facility_app_config.get_facility('5-day clinic')\n",
    "\n",
    "    holiday_list = facility.holidays.holidays.filter(\n",
    "        local_date__year=year,\n",
    "        local_date__month=month).values_list('local_date', flat=True)\n",
    "    return [h.day for h in holiday_list]"
   ]
  },
  {
   "cell_type": "code",
   "execution_count": 3,
   "id": "70bb732e",
   "metadata": {},
   "outputs": [],
   "source": [
    "def get_scheduled_pids():\n",
    "    \n",
    "    return ParticipantNote.objects.filter(\n",
    "        title = 'Follow Up').values_list('subject_identifier', flat=True)\n"
   ]
  },
  {
   "cell_type": "code",
   "execution_count": 4,
   "id": "fc906ab3",
   "metadata": {},
   "outputs": [],
   "source": [
    "def get_last_day_scheduled(year, month):\n",
    "    \n",
    "    last_part_notes = ParticipantNote.objects.filter(title = 'Follow Up',\n",
    "                                                     date__year=year,\n",
    "                                                     date__month=month)\n",
    "    if last_part_notes:\n",
    "        return last_part_notes[0].date.day, last_part_notes.count()\n",
    "    return None, 0\n",
    "\n"
   ]
  },
  {
   "cell_type": "code",
   "execution_count": 5,
   "id": "a490f4f6",
   "metadata": {},
   "outputs": [],
   "source": [
    "def get_dates_to_schedule(year, month, last_day_scheduled=None, full_scheduled=None):\n",
    "    calendar_obj = calendar.Calendar(firstweekday=0)\n",
    "    \n",
    "    dates_to_schedule = []\n",
    "    count = 0\n",
    "    for month_day in calendar_obj.itermonthdays(year, month):\n",
    "        \n",
    "        if last_day_scheduled and not full_scheduled and count == 0:\n",
    "            dates_to_schedule.append(date(year, month, last_day_scheduled))\n",
    "            count += 1\n",
    "            \n",
    "        last_day_scheduled = last_day_scheduled or 0\n",
    "        if (month_day != 0 and month_day > last_day_scheduled and \n",
    "            calendar.weekday(year, month, month_day) not in [5,6] and\n",
    "            month_day not in get_holidays(year, month)):\n",
    "            \n",
    "            dates_to_schedule.append(date(year, month, month_day))\n",
    "                \n",
    "    return dates_to_schedule\n"
   ]
  },
  {
   "cell_type": "code",
   "execution_count": 6,
   "id": "925fa9ce",
   "metadata": {},
   "outputs": [],
   "source": [
    "def get_consents_for_the_month(year, month, days_available, cohort_pids):\n",
    "    \n",
    "    cohart_a_pids = OnScheduleChildCohortAEnrollment.objects.values_list(\n",
    "    'subject_identifier', flat=True).distinct()\n",
    "    \n",
    "    child_consents = CaregiverChildConsent.objects.filter(\n",
    "        Q(child_dob__month=6) & Q(child_dob__year=2017),\n",
    "        child_dob__isnull=False, subject_identifier__in=cohart_a_pids,).exclude(\n",
    "        subject_identifier__in=get_scheduled_pids()).order_by('child_dob')[:days_available*2]\n",
    "    \n",
    "    return child_consents"
   ]
  },
  {
   "cell_type": "code",
   "execution_count": 7,
   "id": "b2fc2b10",
   "metadata": {},
   "outputs": [],
   "source": [
    "from dateutil.relativedelta import relativedelta\n",
    "\n",
    "def schedule_fu_visit(year, month, max_per_day, cohort_pids):\n",
    "    \n",
    "    last_day_scheduled, last_daycount = get_last_day_scheduled(year, month)\n",
    "    if ((not last_day_scheduled and month == get_utcnow().date().month and year == get_utcnow().date().year)\n",
    "        or date(year, month, last_day_scheduled) >= get_utcnow()):\n",
    "        last_day_scheduled = (get_utcnow()+relativedelta(days=1)).date().day\n",
    "    \n",
    "    days_available = get_dates_to_schedule(\n",
    "        year, month,\n",
    "        last_day_scheduled=last_day_scheduled,\n",
    "        full_scheduled=last_daycount==max_per_day)\n",
    "    \n",
    "    consents_for_month = get_consents_for_the_month(year, month, len(days_available), cohort_pids)\n",
    "    print(consents_for_month.count())\n",
    "    \n",
    "    last_mod = last_daycount % max_per_day\n",
    "    \n",
    "    for i in range(len(days_available)):\n",
    "        upper_limit = ((i+1)*2) + last_mod\n",
    "        lower_limit = i*2 + last_mod\n",
    "        \n",
    "        schedule_date = (days_available[i])\n",
    "        print(schedule_date)\n",
    "        \n",
    "        sliced_consents = consents_for_month[lower_limit:upper_limit]\n",
    "        for consent in sliced_consents:\n",
    "#             print(lower_limit, \"??????????\", upper_limit)\n",
    "            \n",
    "            print(sliced_consents.count(), \">>>>>>>\", consent)\n",
    "            try:\n",
    "                ParticipantNote.objects.get(subject_identifier=consent.subject_identifier)\n",
    "            except ParticipantNote.DoesNotExist:\n",
    "                ParticipantNote.objects.create(\n",
    "                    subject_identifier = consent.subject_identifier,\n",
    "                    title = 'Follow Up',\n",
    "                    color = 'yellow',\n",
    "                    date = schedule_date,\n",
    "                    description = consent.child_dob)\n"
   ]
  },
  {
   "cell_type": "code",
   "execution_count": 12,
   "id": "048ada5e",
   "metadata": {},
   "outputs": [
    {
     "data": {
      "text/plain": [
       "4"
      ]
     },
     "execution_count": 12,
     "metadata": {},
     "output_type": "execute_result"
    }
   ],
   "source": [
    "ParticipantNote.objects.filter(date__year=2022, date__month=7).count()"
   ]
  },
  {
   "cell_type": "code",
   "execution_count": 10,
   "id": "862e51b9",
   "metadata": {},
   "outputs": [
    {
     "name": "stdout",
     "output_type": "stream",
     "text": [
      "6\n",
      "2022-07-23\n",
      "2 >>>>>>> CaregiverChildConsent object (950c210b-2dc7-4f6d-8608-d59e589aa80a)\n",
      "2 >>>>>>> CaregiverChildConsent object (9bdd93aa-e383-4100-8c9b-acf1b561a4d1)\n",
      "2022-07-25\n",
      "2 >>>>>>> CaregiverChildConsent object (be50ebeb-61da-404b-bee3-9b0b10b10626)\n",
      "2 >>>>>>> CaregiverChildConsent object (58ed5bdb-81cc-40c2-8b5f-0dd512cc5ce2)\n",
      "2022-07-26\n",
      "2022-07-27\n",
      "2022-07-28\n",
      "2022-07-29\n"
     ]
    }
   ],
   "source": [
    "cohart_a_pids = OnScheduleChildCohortAEnrollment.objects.values_list('subject_identifier', flat=True).distinct()\n",
    "\n",
    "schedule_fu_visit(2022, 7, 2, cohart_a_pids)"
   ]
  },
  {
   "cell_type": "code",
   "execution_count": 9,
   "id": "88ee65b2",
   "metadata": {},
   "outputs": [
    {
     "data": {
      "text/plain": [
       "(6, {'flourish_calendar.ParticipantNote': 6})"
      ]
     },
     "execution_count": 9,
     "metadata": {},
     "output_type": "execute_result"
    }
   ],
   "source": [
    "ParticipantNote.objects.filter(date__year=2022, date__month=7).delete()"
   ]
  },
  {
   "cell_type": "code",
   "execution_count": 12,
   "id": "71826e36",
   "metadata": {},
   "outputs": [
    {
     "data": {
      "text/plain": [
       "22"
      ]
     },
     "execution_count": 12,
     "metadata": {},
     "output_type": "execute_result"
    }
   ],
   "source": [
    "get_utcnow().date().day"
   ]
  },
  {
   "cell_type": "code",
   "execution_count": null,
   "id": "47f84969",
   "metadata": {},
   "outputs": [],
   "source": [
    "##########################################"
   ]
  },
  {
   "cell_type": "code",
   "execution_count": 33,
   "id": "d57b112f",
   "metadata": {},
   "outputs": [
    {
     "name": "stdout",
     "output_type": "stream",
     "text": [
      "B142-040990584-0-10 2017-06-05 2022-01-24\n",
      "B142-040990444-7-10 2017-06-17 2021-10-27\n",
      "B142-040990735-8-10 2017-06-19 2022-04-08\n",
      "B142-040990657-4-10 2017-06-20 2022-02-22\n",
      "B142-040990467-8-10 2017-06-20 2021-11-04\n",
      "B142-040990450-4-10 2017-06-26 2021-10-29\n"
     ]
    }
   ],
   "source": [
    "child_consents6 = CaregiverChildConsent.objects.filter(\n",
    "    Q(child_dob__month=6) & Q(child_dob__year=2017),child_dob__isnull=False, subject_identifier__in=list(cohart_a_pids) ).order_by('child_dob')\n",
    "\n",
    "for a in child_consents6:\n",
    "    print(a.subject_identifier, a.child_dob, a.consent_datetime.date())"
   ]
  },
  {
   "cell_type": "code",
   "execution_count": 28,
   "id": "4dea8718",
   "metadata": {},
   "outputs": [
    {
     "data": {
      "text/plain": [
       "6"
      ]
     },
     "execution_count": 28,
     "metadata": {},
     "output_type": "execute_result"
    }
   ],
   "source": [
    "child_consents6.count()"
   ]
  },
  {
   "cell_type": "code",
   "execution_count": 26,
   "id": "6796188d",
   "metadata": {},
   "outputs": [
    {
     "name": "stdout",
     "output_type": "stream",
     "text": [
      "B142-040990456-1-10\n",
      "B142-040990406-6-10\n",
      "B142-040990541-0-10\n",
      "B142-040990566-7-10\n",
      "B142-040990395-1-10\n",
      "B142-040990588-1-10\n",
      "B142-040990498-3-10\n"
     ]
    }
   ],
   "source": [
    "for a in child_consents7:\n",
    "    print(a.subject_identifier)"
   ]
  },
  {
   "cell_type": "code",
   "execution_count": 34,
   "id": "078db4fb",
   "metadata": {},
   "outputs": [
    {
     "name": "stdout",
     "output_type": "stream",
     "text": [
      "B142-040990456-1-10 2017-07-05 2021-11-01\n",
      "B142-040990406-6-10 2017-07-11 2021-10-15\n",
      "B142-040990541-0-10 2017-07-20 2021-12-16\n",
      "B142-040990566-7-10 2017-07-20 2022-01-19\n",
      "B142-040990395-1-10 2017-07-21 2021-10-12\n",
      "B142-040990588-1-10 2017-07-23 2022-01-25\n",
      "B142-040990498-3-10 2017-07-27 2021-11-19\n"
     ]
    }
   ],
   "source": [
    "child_consents7 = CaregiverChildConsent.objects.filter(\n",
    "    Q(child_dob__month__in=[6,7]) & Q(child_dob__year=2017),child_dob__isnull=False, subject_identifier__in=list(cohart_a_pids) ).order_by('child_dob')\n",
    "\n",
    "for a in child_consents7:\n",
    "    print(a.subject_identifier, a.child_dob, a.consent_datetime.date())"
   ]
  },
  {
   "cell_type": "code",
   "execution_count": 47,
   "id": "147d41d4",
   "metadata": {},
   "outputs": [],
   "source": []
  },
  {
   "cell_type": "code",
   "execution_count": 59,
   "id": "f2f0597a",
   "metadata": {},
   "outputs": [
    {
     "data": {
      "text/plain": [
       "[<CaregiverChildConsent: CaregiverChildConsent object (f528a730-1377-4ced-afa2-65f738ed9ba0)>]"
      ]
     },
     "execution_count": 59,
     "metadata": {},
     "output_type": "execute_result"
    }
   ],
   "source": [
    "child_consents7[6:8]"
   ]
  },
  {
   "cell_type": "code",
   "execution_count": null,
   "id": "42961424",
   "metadata": {},
   "outputs": [],
   "source": [
    "iterations = int(math.ceil(float(x)/2))\n",
    "\n",
    "\n",
    "for x in range(iterations):\n",
    "    y = (x+1)*2\n",
    "    for consent in child_consents7[x*2:y]:\n",
    "        ParticipantNote.objects.create(\n",
    "            subject_identifier = consent.subject_identifier,\n",
    "            title = 'Follow Up',\n",
    "            color = 'yellow',\n",
    "            date = schedule_date,\n",
    "            description = consent.child_dob\n",
    "        )\n",
    "        "
   ]
  },
  {
   "cell_type": "code",
   "execution_count": 43,
   "id": "b6f0e348",
   "metadata": {},
   "outputs": [
    {
     "data": {
      "text/plain": [
       "6"
      ]
     },
     "execution_count": 43,
     "metadata": {},
     "output_type": "execute_result"
    }
   ],
   "source": []
  }
 ],
 "metadata": {
  "kernelspec": {
   "display_name": "Django Shell-Plus",
   "language": "python",
   "name": "django_extensions"
  },
  "language_info": {
   "codemirror_mode": {
    "name": "ipython",
    "version": 3
   },
   "file_extension": ".py",
   "mimetype": "text/x-python",
   "name": "python",
   "nbconvert_exporter": "python",
   "pygments_lexer": "ipython3",
   "version": "3.9.0"
  }
 },
 "nbformat": 4,
 "nbformat_minor": 5
}
