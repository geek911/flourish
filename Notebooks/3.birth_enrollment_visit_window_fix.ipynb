{
 "cells": [
  {
   "cell_type": "code",
   "execution_count": 1,
   "id": "68f0d0f0",
   "metadata": {},
   "outputs": [],
   "source": [
    "# Imports\n",
    "import os \n",
    "import pandas as pd\n",
    "from django.core.exceptions import ValidationError\n",
    "os.environ[\"DJANGO_ALLOW_ASYNC_UNSAFE\"] = \"true\"\n",
    "from datetime import date\n",
    "from edc_appointment.models import Appointment"
   ]
  },
  {
   "cell_type": "code",
   "execution_count": 2,
   "id": "7fef0dfa",
   "metadata": {},
   "outputs": [
    {
     "data": {
      "text/plain": [
       "(1, {'flourish_caregiver.OnScheduleCohortCSec': 1})"
      ]
     },
     "execution_count": 2,
     "metadata": {},
     "output_type": "execute_result"
    }
   ],
   "source": [
    "OnScheduleCohortCSec.objects.get(subject_identifier='B142-040990001-5', schedule_name='c_sec2_schedule1').delete()\n",
    "\n",
    "OnScheduleCohortCSec.objects.get(subject_identifier='B142-040990005-6', schedule_name='c_sec2_schedule1').delete()\n",
    "\n",
    "OnScheduleCohortCSec.objects.get(subject_identifier='B142-040990003-1', schedule_name='c_sec2_schedule1').delete()\n",
    "\n",
    "OnScheduleCohortCSec.objects.get(subject_identifier='B142-040990002-3', schedule_name='c_sec2_schedule1').delete()\n",
    "\n",
    "OnScheduleCohortCSec.objects.get(subject_identifier='B142-040990007-2', schedule_name='c_sec1_schedule1').delete()\n",
    "\n"
   ]
  },
  {
   "cell_type": "code",
   "execution_count": 3,
   "id": "527f0bd4",
   "metadata": {},
   "outputs": [],
   "source": [
    "from django.apps import apps as django_apps\n",
    "from edc_base.utils import get_utcnow\n",
    "\n",
    "\n",
    "def create_consent_version(instance, version):\n",
    "    consent_version_cls = django_apps.get_model(\n",
    "        'flourish_caregiver.flourishconsentversion')\n",
    "\n",
    "    try:\n",
    "        consent_version_cls.objects.get(\n",
    "            screening_identifier=instance.screening_identifier)\n",
    "    except consent_version_cls.DoesNotExist:\n",
    "        consent_version = consent_version_cls(\n",
    "            screening_identifier=instance.screening_identifier,\n",
    "            version=version,\n",
    "            user_created=instance.user_modified or instance.user_created,\n",
    "            created=get_utcnow())\n",
    "        consent_version.save()\n",
    "\n",
    "\n",
    "cfv = FlourishConsentVersion.objects.values_list('screening_identifier')\n",
    "\n",
    "missing = SubjectConsent.objects.filter(version='2').exclude(screening_identifier__in=cfv)\n",
    "\n",
    "for consent in missing:\n",
    "    create_consent_version(consent, consent.version)"
   ]
  },
  {
   "cell_type": "code",
   "execution_count": 4,
   "id": "aef07381",
   "metadata": {},
   "outputs": [],
   "source": [
    "###########Start Here\n",
    "# Imports\n",
    "import os \n",
    "import pandas as pd\n",
    "from django.core.exceptions import ValidationError\n",
    "os.environ[\"DJANGO_ALLOW_ASYNC_UNSAFE\"] = \"true\"\n",
    "from datetime import date\n",
    "from edc_appointment.models import Appointment\n",
    "\n",
    "from dateutil import parser\n",
    "from edc_appointment.models import Appointment\n",
    "\n",
    "pids = []\n",
    "pids1 = []\n",
    "#OnScheduleCohortBSec\n",
    "# OnScheduleCohortCEnrollment\n",
    "schedules = [OnScheduleCohortASec, OnScheduleCohortBSec, OnScheduleCohortCSec,\n",
    "            OnScheduleCohortAEnrollment, OnScheduleCohortBEnrollment, OnScheduleCohortCEnrollment]\n",
    "\n",
    "\n",
    "for s in schedules:\n",
    "    for a in s.objects.all():\n",
    "        sn = a.schedule_name\n",
    "\n",
    "        ccc = CaregiverChildConsent.objects.filter(subject_identifier=a.child_subject_identifier)\n",
    "        for c in ccc:\n",
    "            if '2' in sn and c.caregiver_visit_count != 2:\n",
    "                pids.append(c.subject_identifier)\n",
    "                c.caregiver_visit_count = 2\n",
    "                c.save_base(raw=True)\n",
    "            elif '2' not in sn and c.caregiver_visit_count != 1:\n",
    "                pids1.append(c.subject_identifier)\n",
    "                c.caregiver_visit_count = 1\n",
    "                c.save_base(raw=True)"
   ]
  },
  {
   "cell_type": "code",
   "execution_count": 5,
   "id": "4688084d",
   "metadata": {},
   "outputs": [
    {
     "name": "stdout",
     "output_type": "stream",
     "text": [
      "B142-040990504-8 2021-11-25 B142-040990504-8 a_enrol1_schedule1 a_enrol1_schedule1 B142-040990504-8-10\n",
      "B142-040990581-6 2022-02-09 B142-040990581-6 a_enrol1_schedule1 a_enrol1_schedule1 B142-040990581-6-10\n",
      "B142-040990006-4 2021-05-06 B142-040990006-4 b_enrol1_schedule1 b_enrol1_schedule1 B142-040990006-4-10\n",
      "B142-040990009-8 2021-05-07 B142-040990009-8 b_enrol1_schedule1 b_enrol1_schedule1 B142-040990009-8-10\n",
      "B142-040990044-5 2021-07-02 B142-040990044-5 b_enrol1_schedule1 b_enrol1_schedule1 B142-040990044-5-60\n",
      "hmmmmmm!\n",
      "B142-040990585-7 2022-02-11 B142-040990585-7 b_enrol1_schedule1 b_enrol1_schedule1 B142-040990585-7-10\n",
      "B142-040990008-0 2021-05-07 B142-040990008-0 c_enrol1_schedule1 c_enrol1_schedule1 B142-040990008-0-10\n",
      "B142-040990623-6 2022-02-08 B142-040990623-6 c_enrol1_schedule1 c_enrol1_schedule1 B142-040990623-6-10\n",
      "B142-040990023-9 2021-05-17 B142-040990023-9 b_sec1_schedule1 b_sec1_schedule1 B142-040990023-9-10\n",
      "B142-040990602-0 2022-03-07 B142-040990602-0 b_sec1_schedule1 b_sec1_schedule1 B142-040990602-0-10\n",
      "hmmmmmm!\n",
      "B142-040990263-1 2021-07-27 B142-040990263-1 c_sec1_schedule1 c_sec1_schedule1 B142-040990263-1-10\n",
      "B142-040990612-9 2022-02-10 B142-040990612-9 c_sec1_schedule1 c_sec1_schedule1 B142-040990612-9-10\n",
      "B142-040990001-5 2021-04-30 B142-040990001-5 c_sec1_schedule1 c_sec1_schedule1 B142-040990001-5-10\n",
      "B142-040990003-1 2021-05-04 B142-040990003-1 c_sec1_schedule1 c_sec1_schedule1 B142-040990003-1-10\n",
      "B142-040990005-6 2021-05-05 B142-040990005-6 c_sec1_schedule1 c_sec1_schedule1 B142-040990005-6-10\n",
      "B142-040990182-3 2021-07-08 B142-040990182-3 c_sec1_schedule1 c_sec1_schedule1 B142-040990182-3-10\n",
      "B142-040990002-3 2021-04-30 B142-040990002-3 c_sec1_schedule1 c_sec1_schedule1 B142-040990002-3-10\n",
      "B142-040990606-1 2022-02-11 B142-040990606-1 c_sec1_schedule1 c_sec1_schedule1 B142-040990606-1-10\n"
     ]
    }
   ],
   "source": [
    "###########Start Here\n",
    "# Imports\n",
    "import os \n",
    "import pandas as pd\n",
    "from django.core.exceptions import ValidationError\n",
    "os.environ[\"DJANGO_ALLOW_ASYNC_UNSAFE\"] = \"true\"\n",
    "from datetime import date\n",
    "from edc_appointment.models import Appointment\n",
    "\n",
    "from dateutil import parser\n",
    "from edc_appointment.models import Appointment\n",
    "no_appt = []\n",
    "no_cpe = []\n",
    "mismatch = []\n",
    "failed = []\n",
    "failed_appts = []\n",
    "\n",
    "enrol_dict = [OnScheduleCohortAEnrollment, OnScheduleCohortBEnrollment, OnScheduleCohortCEnrollment,\n",
    "             OnScheduleCohortASec, OnScheduleCohortBSec, OnScheduleCohortCSec]\n",
    "\n",
    "#Traverse all enrollment schedules\n",
    "for g in enrol_dict:\n",
    "    \n",
    "    schedule_objs = g.objects.all()\n",
    "    \n",
    "    #check if onschedule datetime is correct, else build dict\n",
    "    for k in schedule_objs:\n",
    "        try:\n",
    "            cpe = CaregiverPreviouslyEnrolled.objects.get(subject_identifier=k.subject_identifier)\n",
    "        except CaregiverPreviouslyEnrolled.DoesNotExist:\n",
    "            no_cpe.append(k.subject_identifier)\n",
    "        \n",
    "        schedule_name = k.schedule_name\n",
    "            \n",
    "        if k.onschedule_datetime.date() != cpe.report_datetime.date():\n",
    "            print(k, k.subject_identifier, schedule_name, k.schedule_name, k.child_subject_identifier)\n",
    "            mismatch.append(k.subject_identifier)\n",
    "            mv = None\n",
    "            appt = None\n",
    "            try:\n",
    "                appt = Appointment.objects.get(subject_identifier=k.subject_identifier,\n",
    "                                               visit_code='2000M', visit_code_sequence=0,\n",
    "                                               schedule_name=schedule_name)\n",
    "            except Appointment.DoesNotExist:\n",
    "                failed_appts.append(k.subject_identifier)\n",
    "            else:\n",
    "                try:\n",
    "                    mv = MaternalVisit.objects.get(subject_identifier=k.subject_identifier,\n",
    "                                           visit_code='2000M', visit_code_sequence=0,\n",
    "                                                   schedule_name=k.schedule_name)\n",
    "                except MaternalVisit.DoesNotExist:\n",
    "                    print('hmmmmmm!')\n",
    "              \n",
    "                appt.schedule_name = appt.schedule_name + 'x'\n",
    "                appt.save()\n",
    "            k.delete()\n",
    "            \n",
    "            try:\n",
    "                cpe.save()\n",
    "            except:\n",
    "                failed.append(k.subject_identifier)\n",
    "            else:\n",
    "                try:\n",
    "                    apptm = Appointment.objects.get(subject_identifier=k.subject_identifier,\n",
    "                                                   visit_code='2000M', visit_code_sequence=0,\n",
    "                                                   schedule_name=schedule_name)\n",
    "                except:\n",
    "                    apptm = None\n",
    "                    print('oops')\n",
    "\n",
    "                if mv and apptm:\n",
    "                    mv.appointment = apptm\n",
    "                    mv.save_base(raw=True)\n",
    "#                     \n",
    "#                 if appt:\n",
    "                apptm.appt_datetime = appt.appt_datetime\n",
    "                apptm.appt_status = appt.appt_status\n",
    "                apptm.appt_reason = appt.appt_reason\n",
    "                apptm.save_base(raw=True)\n",
    "                try:\n",
    "                    appt.delete()\n",
    "                except:\n",
    "                    failed_appts.append(appt.subject_identifier, appt.schedule_name)\n"
   ]
  },
  {
   "cell_type": "code",
   "execution_count": 6,
   "id": "e8c6fd98",
   "metadata": {},
   "outputs": [
    {
     "data": {
      "text/plain": [
       "[]"
      ]
     },
     "execution_count": 6,
     "metadata": {},
     "output_type": "execute_result"
    }
   ],
   "source": [
    "no_appt"
   ]
  },
  {
   "cell_type": "code",
   "execution_count": 7,
   "id": "43b46a09",
   "metadata": {},
   "outputs": [
    {
     "data": {
      "text/plain": [
       "[]"
      ]
     },
     "execution_count": 7,
     "metadata": {},
     "output_type": "execute_result"
    }
   ],
   "source": [
    "no_cpe"
   ]
  },
  {
   "cell_type": "code",
   "execution_count": 8,
   "id": "4237764f",
   "metadata": {},
   "outputs": [
    {
     "data": {
      "text/plain": [
       "['B142-040990504-8',\n",
       " 'B142-040990581-6',\n",
       " 'B142-040990006-4',\n",
       " 'B142-040990009-8',\n",
       " 'B142-040990044-5',\n",
       " 'B142-040990585-7',\n",
       " 'B142-040990008-0',\n",
       " 'B142-040990623-6',\n",
       " 'B142-040990023-9',\n",
       " 'B142-040990602-0',\n",
       " 'B142-040990263-1',\n",
       " 'B142-040990612-9',\n",
       " 'B142-040990001-5',\n",
       " 'B142-040990003-1',\n",
       " 'B142-040990005-6',\n",
       " 'B142-040990182-3',\n",
       " 'B142-040990002-3',\n",
       " 'B142-040990606-1']"
      ]
     },
     "execution_count": 8,
     "metadata": {},
     "output_type": "execute_result"
    }
   ],
   "source": [
    "mismatch"
   ]
  },
  {
   "cell_type": "code",
   "execution_count": 9,
   "id": "d007c5c0",
   "metadata": {},
   "outputs": [
    {
     "data": {
      "text/plain": [
       "[]"
      ]
     },
     "execution_count": 9,
     "metadata": {},
     "output_type": "execute_result"
    }
   ],
   "source": [
    "failed"
   ]
  },
  {
   "cell_type": "code",
   "execution_count": 10,
   "id": "073d490a",
   "metadata": {},
   "outputs": [
    {
     "data": {
      "text/plain": [
       "[]"
      ]
     },
     "execution_count": 10,
     "metadata": {},
     "output_type": "execute_result"
    }
   ],
   "source": [
    "failed_appts"
   ]
  },
  {
   "cell_type": "code",
   "execution_count": null,
   "id": "c3b85f81",
   "metadata": {},
   "outputs": [],
   "source": []
  }
 ],
 "metadata": {
  "kernelspec": {
   "display_name": "Django Shell-Plus",
   "language": "python",
   "name": "django_extensions"
  },
  "language_info": {
   "codemirror_mode": {
    "name": "ipython",
    "version": 3
   },
   "file_extension": ".py",
   "mimetype": "text/x-python",
   "name": "python",
   "nbconvert_exporter": "python",
   "pygments_lexer": "ipython3",
   "version": "3.9.0"
  }
 },
 "nbformat": 4,
 "nbformat_minor": 5
}
