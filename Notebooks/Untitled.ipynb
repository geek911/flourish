{
 "cells": [
  {
   "cell_type": "code",
   "execution_count": null,
   "id": "c842c78b",
   "metadata": {},
   "outputs": [],
   "source": [
    "OnScheduleCohortCSec.objects.get(subject_identifier='B142-040990001-5', schedule_name='c_sec2_schedule1').delete()\n",
    "\n",
    "OnScheduleCohortCSec.objects.get(subject_identifier='B142-040990005-6', schedule_name='c_sec2_schedule1').delete()\n",
    "\n",
    "OnScheduleCohortCSec.objects.get(subject_identifier='B142-040990003-1', schedule_name='c_sec2_schedule1').delete()\n"
   ]
  }
 ],
 "metadata": {
  "kernelspec": {
   "display_name": "Django Shell-Plus",
   "language": "python",
   "name": "django_extensions"
  },
  "language_info": {
   "codemirror_mode": {
    "name": "ipython",
    "version": 3
   },
   "file_extension": ".py",
   "mimetype": "text/x-python",
   "name": "python",
   "nbconvert_exporter": "python",
   "pygments_lexer": "ipython3",
   "version": "3.9.0"
  }
 },
 "nbformat": 4,
 "nbformat_minor": 5
}
