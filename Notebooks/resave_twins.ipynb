{
 "cells": [
  {
   "cell_type": "code",
   "execution_count": 1,
   "id": "8b7313b9",
   "metadata": {},
   "outputs": [],
   "source": [
    "# Imports\n",
    "import os \n",
    "import pandas as pd\n",
    "from django.core.exceptions import ValidationError\n",
    "os.environ[\"DJANGO_ALLOW_ASYNC_UNSAFE\"] = \"true\"\n",
    "from datetime import date\n",
    "from edc_appointment.models import Appointment\n",
    "\n",
    "# data_path = '/Users/imosweu/flourish_twins/'\n",
    "data_path = '/home/flourish/'"
   ]
  },
  {
   "cell_type": "code",
   "execution_count": 2,
   "id": "8184c713",
   "metadata": {},
   "outputs": [],
   "source": [
    "sc = SubjectConsent.objects.get(subject_identifier='B142-040990594-9')"
   ]
  },
  {
   "cell_type": "code",
   "execution_count": 3,
   "id": "82a08340",
   "metadata": {},
   "outputs": [],
   "source": [
    "cccs = sc.caregiverchildconsent_set.all()"
   ]
  },
  {
   "cell_type": "code",
   "execution_count": 4,
   "id": "77bc0780",
   "metadata": {},
   "outputs": [
    {
     "data": {
      "text/plain": [
       "(2, {'flourish_caregiver.CaregiverChildConsent': 2})"
      ]
     },
     "execution_count": 4,
     "metadata": {},
     "output_type": "execute_result"
    }
   ],
   "source": [
    "cccs.delete()"
   ]
  },
  {
   "cell_type": "code",
   "execution_count": 6,
   "id": "45fcb585",
   "metadata": {},
   "outputs": [],
   "source": [
    "# Subject Consent\n",
    "child_consents = sc.caregiverchildconsent_set.all()\n",
    "child_consents_data = []\n",
    "\n",
    "for consent in child_consents:\n",
    "    data = consent.__dict__\n",
    "    print(data)\n",
    "    child_consents_data.append(data)\n",
    "df_child_consent = pd.DataFrame(child_consents_data)\n",
    "\n",
    "child_consents_file = 'child_consents.csv'\n",
    "fpath = data_path + child_consents_file\n",
    "df_child_consent.to_csv(fpath, sep='|', encoding='utf-8')"
   ]
  },
  {
   "cell_type": "code",
   "execution_count": 15,
   "id": "08c10a00",
   "metadata": {},
   "outputs": [
    {
     "data": {
      "text/plain": [
       "(2, {'flourish_caregiver.CaregiverChildConsent': 2})"
      ]
     },
     "execution_count": 15,
     "metadata": {},
     "output_type": "execute_result"
    }
   ],
   "source": [
    "child_consents.delete()"
   ]
  },
  {
   "cell_type": "code",
   "execution_count": 6,
   "id": "636e10b8",
   "metadata": {},
   "outputs": [],
   "source": [
    "scs = ChildDummySubjectConsent.objects.filter(subject_identifier__startswith='B142-040990594-9').exclude(subject_identifier__endswith='5')"
   ]
  },
  {
   "cell_type": "code",
   "execution_count": 7,
   "id": "3f73d063",
   "metadata": {},
   "outputs": [
    {
     "data": {
      "text/plain": [
       "(2, {'flourish_child.ChildDummySubjectConsent': 2})"
      ]
     },
     "execution_count": 7,
     "metadata": {},
     "output_type": "execute_result"
    }
   ],
   "source": [
    "scs.delete()"
   ]
  },
  {
   "cell_type": "code",
   "execution_count": 8,
   "id": "3a17f60a",
   "metadata": {},
   "outputs": [],
   "source": [
    "rs = RegisteredSubject.objects.filter(subject_identifier__startswith='B142-040990594-9-').exclude(subject_identifier__endswith='5')"
   ]
  },
  {
   "cell_type": "code",
   "execution_count": 9,
   "id": "064c2101",
   "metadata": {},
   "outputs": [
    {
     "data": {
      "text/plain": [
       "<QuerySet [<RegisteredSubject: B142-040990594-9-60>, <RegisteredSubject: B142-040990594-9-10>]>"
      ]
     },
     "execution_count": 9,
     "metadata": {},
     "output_type": "execute_result"
    }
   ],
   "source": [
    "rs"
   ]
  },
  {
   "cell_type": "code",
   "execution_count": null,
   "id": "73f4349f",
   "metadata": {},
   "outputs": [],
   "source": [
    "ChildAssent.objects.filter(subject_identifier__startswith='B142-040990594-9').delete()"
   ]
  },
  {
   "cell_type": "code",
   "execution_count": 10,
   "id": "09f188aa",
   "metadata": {},
   "outputs": [
    {
     "data": {
      "text/plain": [
       "(2, {'edc_registration.RegisteredSubject': 2})"
      ]
     },
     "execution_count": 10,
     "metadata": {},
     "output_type": "execute_result"
    }
   ],
   "source": [
    "rs.delete()"
   ]
  },
  {
   "cell_type": "code",
   "execution_count": 12,
   "id": "69bad966",
   "metadata": {},
   "outputs": [
    {
     "data": {
      "text/plain": [
       "(1, {'edc_identifier.IdentifierModel': 1})"
      ]
     },
     "execution_count": 12,
     "metadata": {},
     "output_type": "execute_result"
    }
   ],
   "source": [
    "IdentifierModel.objects.get(identifier='B142-040990594-9-60').delete()"
   ]
  },
  {
   "cell_type": "code",
   "execution_count": 13,
   "id": "fe4cea66",
   "metadata": {},
   "outputs": [
    {
     "data": {
      "text/plain": [
       "(1, {'edc_identifier.IdentifierModel': 1})"
      ]
     },
     "execution_count": 13,
     "metadata": {},
     "output_type": "execute_result"
    }
   ],
   "source": [
    "IdentifierModel.objects.get(identifier='B142-040990594-9-10').delete()"
   ]
  },
  {
   "cell_type": "code",
   "execution_count": null,
   "id": "2a9b228e",
   "metadata": {},
   "outputs": [],
   "source": [
    "# Child Consent\n",
    "import uuid\n",
    "from dateutil import parser\n",
    "from flourish_caregiver.models import CaregiverChildConsent\n",
    "from django.contrib.sites.models import Site\n",
    "from django.core.exceptions import ValidationError\n",
    "\n",
    "fname = data_path + 'child_consents.csv'\n",
    "f = open(fname, 'r')\n",
    "lines = f.readlines()\n",
    "headers = lines[0]\n",
    "headers = headers.strip()\n",
    "headers = headers.split('|')\n",
    "del headers[0]\n",
    "lines.pop(0)\n",
    "\n",
    "s_consent_data = []\n",
    "count = 0\n",
    "for line in lines:\n",
    "    line = line.strip()\n",
    "    line = line.split('|')\n",
    "    del line[0]\n",
    "    if len(line) == len(headers):\n",
    "        data = dict(zip(headers, line))\n",
    "    else:\n",
    "        print(lines[count - 1])\n",
    "        print(line)\n",
    "        print(lines[count + 1])\n",
    "        raise ValidationError('Line is not the right size')\n",
    "    s_consent_data.append(data)\n",
    "    count += 0\n",
    "    \n",
    "\n",
    "count = 0\n",
    "already_created = 0\n",
    "pids_dict = {}\n",
    "    \n",
    "for dd in s_consent_data:\n",
    "    del dd['_state']\n",
    "    created = parser.parse(dd.get('created'))\n",
    "    consent_datetime = parser.parse(dd.get('consent_datetime'))\n",
    "    child_dob = parser.parse(dd.get('child_dob'))\n",
    "    child_dob = child_dob.date()\n",
    "    dd.update(\n",
    "        created=created,\n",
    "        consent_datetime=consent_datetime,\n",
    "        child_dob=child_dob,\n",
    "        subject_consent_id=sc.id\n",
    "    )\n",
    "    \n",
    "    if dd['modified']:\n",
    "        modified = parser.parse(dd.get('modified'))\n",
    "        dd.update(modified=modified)\n",
    "    else:\n",
    "        dd.update(modified=None)\n",
    "    if dd['is_verified_datetime']:\n",
    "        is_verified_datetime = parser.parse(dd.get('is_verified_datetime'))\n",
    "        dd.update(is_verified_datetime=is_verified_datetime)\n",
    "    else:\n",
    "        dd.update(is_verified_datetime=None)\n",
    "    if dd.get('gender') == 'M':\n",
    "        dd.update(study_child_identifier = '056-4981893-0-25')\n",
    "    if dd.get('gender') == 'F':\n",
    "        dd.update(study_child_identifier = '056-4981893-0-35')\n",
    "        \n",
    "    if dd['caregiver_visit_count']:\n",
    "        caregiver_visit_count = parser.parse(dd.get('caregiver_visit_count'))\n",
    "        dd.update(caregiver_visit_count=caregiver_visit_count)\n",
    "    else:\n",
    "        dd.update(caregiver_visit_count=0)\n",
    "\n",
    "    try:\n",
    "        CaregiverChildConsent.objects.get(identity=dd.get('identity'))\n",
    "    except CaregiverChildConsent.DoesNotExist:\n",
    "        old_id = dd.get('subject_identifier')\n",
    "        del dd['subject_identifier']\n",
    "        del dd['dob']\n",
    "        \n",
    "#         import pdb; pdb.set_trace()\n",
    "        print(dd)\n",
    "        subject_consent = CaregiverChildConsent.objects.create(**dd)\n",
    "\n",
    "        count += 1\n",
    "    else:\n",
    "        already_created += 1\n",
    "print(f'Total created consents {count}')\n",
    "print(pids_dict)"
   ]
  }
 ],
 "metadata": {
  "kernelspec": {
   "display_name": "Django Shell-Plus",
   "language": "python",
   "name": "django_extensions"
  },
  "language_info": {
   "codemirror_mode": {
    "name": "ipython",
    "version": 3
   },
   "file_extension": ".py",
   "mimetype": "text/x-python",
   "name": "python",
   "nbconvert_exporter": "python",
   "pygments_lexer": "ipython3",
   "version": "3.9.0"
  }
 },
 "nbformat": 4,
 "nbformat_minor": 5
}
